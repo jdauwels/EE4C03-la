{
 "cells": [
  {
   "cell_type": "markdown",
   "metadata": {},
   "source": [
    "EE4C03 \n",
    "===\n",
    "Statistical Digital Signal Processing and Modeling\n",
    "============\n",
    "\n",
    "# Computer Exercise 2\n",
    "\n",
    "Note: Interact with Octave/Matlab in Notebook. All commands are interpreted by Octave/Matlab. Help on commands is available using the `%help` magic or using `?` with a command.\n",
    "\n"
   ]
  },
  {
   "cell_type": "markdown",
   "metadata": {},
   "source": [
    "## 1. Generation and analysis of random noise signals\n",
    "***\n",
    "_Background [Hayes, Sec. 3.3.7]:_\n",
    "\n",
    "A white noise signal $v(n)$ is characterized by an impulse autocovariance\n",
    "function\n",
    "\n",
    "$$\n",
    "   c_v(k) = \\sigma_v^2 \\delta(k)\n",
    "$$\n",
    "and a flat power spectral density (PSD)\n",
    "\n",
    "$$\n",
    "   P_v(e^{j\\omega}) = \\sigma_v^2\n",
    "$$"
   ]
  },
  {
   "cell_type": "markdown",
   "metadata": {},
   "source": [
    "##### a. In matlab, generate and plot 1000 samples of zero mean unit variance noise\n",
    "\n",
    "`v = randn(1000,1)`"
   ]
  },
  {
   "cell_type": "code",
   "execution_count": null,
   "metadata": {},
   "outputs": [],
   "source": [
    "% NOTE: if you are working with Octave, uncomment the line below. The package 'signal' has the required functions for this exercise.\n",
    "% pgk load signal\n",
    "% add code"
   ]
  },
  {
   "cell_type": "markdown",
   "metadata": {},
   "source": [
    "##### b. Use the function `xcov` to calculate and plot the sample autocovariance function for lags $|k| < 100$."
   ]
  },
  {
   "cell_type": "code",
   "execution_count": null,
   "metadata": {},
   "outputs": [],
   "source": [
    "% add code"
   ]
  },
  {
   "cell_type": "markdown",
   "metadata": {},
   "source": [
    "&nbsp;&nbsp; (An alternative function is `xcorr` which computes the autocorrelation function (ACF), i.e. not correcting for the mean."
   ]
  },
  {
   "cell_type": "markdown",
   "metadata": {},
   "source": [
    "##### c. Use FFT on the sample ACF to calculate and plot the PSD. Is this what you expect?"
   ]
  },
  {
   "cell_type": "code",
   "execution_count": null,
   "metadata": {},
   "outputs": [],
   "source": [
    "% add code"
   ]
  },
  {
   "cell_type": "markdown",
   "metadata": {},
   "source": [
    "Note: The Matlab/Ocatave `help xcov` does not say how the correlation function is actually computed. As we will see later in class, there are various ways.\n",
    "***"
   ]
  },
  {
   "cell_type": "markdown",
   "metadata": {},
   "source": [
    "## 2. Generation and analysis of harmonic signals\n",
    "***"
   ]
  },
  {
   "cell_type": "markdown",
   "metadata": {},
   "source": [
    "_Background [Hayes, Examples 3.3.1 and 3.3.3]:_\n",
    "\n",
    "A sum of sinusoids with uniformly distributed random phases\n",
    "\n",
    "$$\n",
    "   x(n) = \\sum_{m=1}^M A_m \\sin(n \\omega_m + \\phi_m)\n",
    "$$\n",
    "has an ACF that is also a sum of sinusoids\n",
    "\n",
    "$$\n",
    "   r_x(k,l) = \\frac{1}{2} \\sum_{m=1}^M A_m^2 \\cos[(k-l) \\omega_m]\n",
    "$$\n",
    "and a PSD consisting of a sum of impulse functions\n",
    "\n",
    "$$\n",
    "   P_x(e^{j\\omega}) = \\frac{1}{2} \\sum_{m=1}^M A_m^2 [u_0(\\omega -\n",
    "   \\omega_m) + u_0(\\omega + \\omega-m)]\n",
    "$$\n",
    "\n",
    "_Background [Hayes, Sec. 3.3.5]:_\n",
    "\n",
    "The autocorrelation matrix of a wide-sense stationary random process is a Hermitian Toeplitz matrix containing the different ACF values\n",
    "\n",
    "$$\n",
    "    {\\bf R}_x = \\mbox{Toep}\\left\\{\n",
    "       r_x(0), \\, r_x(1),\\, \\cdots,\\, r_x(p)\n",
    "       \\right\\}\n",
    "$$\n"
   ]
  },
  {
   "cell_type": "markdown",
   "metadata": {},
   "source": [
    "##### a. Generate and plot 2048 samples of a sum of $M=10$ sinusoids with unit amplitudes, uniformly distributed random phases, and frequencies $ \\omega_m=m(2\\pi)/64$."
   ]
  },
  {
   "cell_type": "code",
   "execution_count": null,
   "metadata": {},
   "outputs": [],
   "source": [
    "% add code"
   ]
  },
  {
   "cell_type": "markdown",
   "metadata": {},
   "source": [
    "##### b. Calculate and plot the sample ACF for lags $|k|<128$"
   ]
  },
  {
   "cell_type": "code",
   "execution_count": null,
   "metadata": {},
   "outputs": [],
   "source": [
    "% add code"
   ]
  },
  {
   "cell_type": "markdown",
   "metadata": {},
   "source": [
    "##### c. Calculate and plot the PSD"
   ]
  },
  {
   "cell_type": "code",
   "execution_count": null,
   "metadata": {},
   "outputs": [],
   "source": [
    "% add code"
   ]
  },
  {
   "cell_type": "markdown",
   "metadata": {},
   "source": [
    "##### d. Construct the $128\\times 128$ autocorrelation matrix ${\\bf R}_x$ and plot its eigenvalues. _You can use `toeplitz` to make the Toeplitz matrix._"
   ]
  },
  {
   "cell_type": "code",
   "execution_count": null,
   "metadata": {},
   "outputs": [],
   "source": [
    "%% add code"
   ]
  },
  {
   "cell_type": "markdown",
   "metadata": {},
   "source": [
    "***\n",
    "## 3. Generation and analysis of nonstationary signals\n",
    "***\n",
    "\n",
    "_Background:_\n",
    "\n",
    "Most of the theory on random processes is based on the assumption of wide-sense stationary signals:\n",
    "1. mean does not depend on time: $m_x(n) = m_x$,\n",
    "2. ACF does not depend on time, only on lag: $r_x(k,l) = r_x(k-l)$,\n",
    "3. variance is finite: $c_x(0) < \\infty$, a technical condition\n",
    "\n",
    "However, many physical signals are nonstationary by nature.  The _short-time Fourier transform (STFT)_ is a mathematical tool to estimate the time-varying spectrum of nonstationary signals.  The STFT is obtained by splitting a signal into shorter overlapping segments, and calculating a discrete Fourier transform (DFT) for each segment. The STFT can be visualized in a _spectrogram_."
   ]
  },
  {
   "cell_type": "markdown",
   "metadata": {},
   "source": [
    "##### a. Read the sound file `speech_dft.wav` (from the Simulink DSP Blockset, but included as a file with this exercise) into a vector in the MATLAB workspace, and determine the sampling rate. _Use `audioread` for this._"
   ]
  },
  {
   "cell_type": "code",
   "execution_count": null,
   "metadata": {},
   "outputs": [],
   "source": [
    "%% add code\n",
    "%% file location: 'data/speech_dft.wav'\n",
    "% help audioread"
   ]
  },
  {
   "cell_type": "markdown",
   "metadata": {},
   "source": [
    "##### b. Plot and play back the time-domain signal _Use `soundsc` for this._"
   ]
  },
  {
   "cell_type": "code",
   "execution_count": null,
   "metadata": {},
   "outputs": [],
   "source": [
    "%% add code\n",
    "% help soundsc"
   ]
  },
  {
   "cell_type": "markdown",
   "metadata": {},
   "source": [
    "Plot the spectrogram, using the following parameters:\n",
    "* length of segments = $256$ samples\n",
    "* overlap of segments = $128$ samples\n",
    "* length of segment DFT = $256$ samples\n",
    "* visible frequency range = half sampling rate\n",
    "* time on $x$-axis, frequency on $y$-axis\n",
    "\n",
    "_Use `spectrogram` [Matlab] or `specgram` [Octave] for this._"
   ]
  },
  {
   "cell_type": "code",
   "execution_count": null,
   "metadata": {},
   "outputs": [],
   "source": [
    "%% add code"
   ]
  },
  {
   "cell_type": "markdown",
   "metadata": {},
   "source": [
    "&nbsp;&nbsp; How do you interprete the spectrogram? If the signal is stationary, what would you expect to see?\n",
    "***"
   ]
  },
  {
   "cell_type": "markdown",
   "metadata": {},
   "source": [
    "## 4. Design and analysis of elementary digital filters\n",
    "***\n",
    "_Background [Hayes, Sec. 3.6]:_\n",
    "\n",
    "First-and second-order all-zero filters (FIR filters): \n",
    "\n",
    "$$\n",
    "   H(z) = b_0 + b_1z^{-1} + b_2z^{-2}\n",
    "$$\n",
    "<center>\n",
    "<img src=\"figures/filt1.png\" alt=\"drawing\" width=\"600\"/>\n",
    "</center>\n",
    "First-and second-order all-pole filters: \n",
    "\n",
    "$$\n",
    "   H(z) = \\frac{b_0}{1 + a_1z^{-1} + a_2z^{-2}}\n",
    "$$\n",
    "<center>\n",
    "<img src=\"figures/filt2.png\" alt=\"drawing\" width=\"600\"/>\n",
    "</center>\n",
    "Biquadratic filters: \n",
    "\n",
    "$$\n",
    "    H(z) = \\frac{b_0 + b_1z^{-1} + b_2z^{-2}}{1 + a_1z^{-1} + a_2 z^{-2}}\n",
    "$$\n",
    "<center>\n",
    "<img src=\"figures/filt3.png\" alt=\"drawing\" width=\"400\"/>\n",
    "</center>"
   ]
  },
  {
   "cell_type": "markdown",
   "metadata": {},
   "source": [
    "##### a. Design a _highpass_ filter with one zero at $z=0.9$"
   ]
  },
  {
   "cell_type": "code",
   "execution_count": null,
   "metadata": {},
   "outputs": [],
   "source": [
    "%% add code"
   ]
  },
  {
   "cell_type": "markdown",
   "metadata": {},
   "source": [
    "##### b. Plot the pole-zero diagram in the complex plane. _Use `zplane` for this._"
   ]
  },
  {
   "cell_type": "code",
   "execution_count": null,
   "metadata": {},
   "outputs": [],
   "source": [
    "%% add code"
   ]
  },
  {
   "cell_type": "markdown",
   "metadata": {},
   "source": [
    "##### c. Plot the frequency response (magnitude \\& phase). _`freqz` for this._"
   ]
  },
  {
   "cell_type": "code",
   "execution_count": null,
   "metadata": {},
   "outputs": [],
   "source": [
    "%% add code"
   ]
  },
  {
   "cell_type": "markdown",
   "metadata": {},
   "source": [
    "##### d. Design a _bandpass_ filter with central frequency $\\omega_c=1$ rad, $r_z = 0.8$, $r_p = 0.9$. \n",
    "&nbsp;&nbsp; This means: the zeros are $z_k = r_z e^{\\pm j \\omega_c}$, and similarly for the poles."
   ]
  },
  {
   "cell_type": "markdown",
   "metadata": {},
   "source": [
    "##### e. Plot the pole-zero diagram in the complex plane."
   ]
  },
  {
   "cell_type": "code",
   "execution_count": null,
   "metadata": {},
   "outputs": [],
   "source": [
    "%% add code"
   ]
  },
  {
   "cell_type": "markdown",
   "metadata": {},
   "source": [
    "##### f. Plot the frequency response (magnitude \\& phase)."
   ]
  },
  {
   "cell_type": "code",
   "execution_count": null,
   "metadata": {},
   "outputs": [],
   "source": [
    "%% add code"
   ]
  },
  {
   "cell_type": "markdown",
   "metadata": {},
   "source": [
    "***\n",
    "## 5. Filtering and analysis of random noise signals\n",
    "***\n",
    "\n",
    "_Background [Hayes, Sec. 3.4]:_\n",
    "\n",
    "Filtering a signal $x(n)$ using a filter with impulse response $h(n)$ yields\n",
    "\n",
    "$$\n",
    "    y(n) = x(x) \\ast h(n)\n",
    "    = \\sum_{k=0}^\\infty h(k) x(n-k)\n",
    "$$\n",
    "In the frequency domain, this is equivalent to\n",
    "\n",
    "$$\n",
    "   P_y(e^{j\\omega}) = P_x(e^{j\\omega}) \\, |H(e^{j\\omega})|^2\n",
    "$$"
   ]
  },
  {
   "cell_type": "markdown",
   "metadata": {},
   "source": [
    "##### a. Generate and plot 1000 samples of zero mean unit variance _white noise_"
   ]
  },
  {
   "cell_type": "code",
   "execution_count": null,
   "metadata": {},
   "outputs": [],
   "source": [
    "% add code"
   ]
  },
  {
   "cell_type": "markdown",
   "metadata": {},
   "source": [
    "##### b. Calculate and plot the PSD"
   ]
  },
  {
   "cell_type": "code",
   "execution_count": null,
   "metadata": {},
   "outputs": [],
   "source": [
    "%% add code"
   ]
  },
  {
   "cell_type": "markdown",
   "metadata": {},
   "source": [
    "##### c. Design a _highpass_ filter with one zero at $z=0.9$."
   ]
  },
  {
   "cell_type": "code",
   "execution_count": null,
   "metadata": {},
   "outputs": [],
   "source": [
    "%% add code"
   ]
  },
  {
   "cell_type": "markdown",
   "metadata": {},
   "source": [
    "##### d. Plot the frequency magnitude response"
   ]
  },
  {
   "cell_type": "code",
   "execution_count": null,
   "metadata": {},
   "outputs": [],
   "source": [
    "%% add code"
   ]
  },
  {
   "cell_type": "markdown",
   "metadata": {},
   "source": [
    "##### e. Filter the white noise signal using the highpass filter"
   ]
  },
  {
   "cell_type": "code",
   "execution_count": null,
   "metadata": {},
   "outputs": [],
   "source": [
    "%% add code"
   ]
  },
  {
   "cell_type": "markdown",
   "metadata": {},
   "source": [
    "##### f. Calculate and plot the PSD of the resulting output signal"
   ]
  },
  {
   "cell_type": "code",
   "execution_count": null,
   "metadata": {},
   "outputs": [],
   "source": [
    "%% add code"
   ]
  },
  {
   "cell_type": "markdown",
   "metadata": {},
   "source": [
    "##### g. Design a bandpass filter with central frequency $\\omega_c=1$ rad, $r_z = 0.8$, $r_p = 0.9$"
   ]
  },
  {
   "cell_type": "code",
   "execution_count": null,
   "metadata": {},
   "outputs": [],
   "source": [
    "%% add code"
   ]
  },
  {
   "cell_type": "markdown",
   "metadata": {},
   "source": [
    "##### h. Plot the frequency magnitude response"
   ]
  },
  {
   "cell_type": "code",
   "execution_count": null,
   "metadata": {},
   "outputs": [],
   "source": [
    "%% add code"
   ]
  },
  {
   "cell_type": "markdown",
   "metadata": {},
   "source": [
    "##### i. Filter the white noise signal using the bandpass filter"
   ]
  },
  {
   "cell_type": "code",
   "execution_count": null,
   "metadata": {},
   "outputs": [],
   "source": [
    "%% add code"
   ]
  },
  {
   "cell_type": "markdown",
   "metadata": {},
   "source": [
    "##### j. Calculate and plot the PSD of the resulting output signal"
   ]
  },
  {
   "cell_type": "code",
   "execution_count": null,
   "metadata": {},
   "outputs": [],
   "source": [
    "%% add code"
   ]
  },
  {
   "cell_type": "markdown",
   "metadata": {},
   "source": [
    "&nbsp;&nbsp; We expect to see the shape of the filter amplitude spectrum back in the PSD."
   ]
  }
 ],
 "metadata": {
  "anaconda-cloud": {},
  "kernelspec": {
   "display_name": "Octave",
   "language": "octave",
   "name": "octave"
  },
  "language_info": {
   "file_extension": ".m",
   "help_links": [
    {
     "text": "GNU Octave",
     "url": "https://www.gnu.org/software/octave/support.html"
    },
    {
     "text": "Octave Kernel",
     "url": "https://github.com/Calysto/octave_kernel"
    },
    {
     "text": "MetaKernel Magics",
     "url": "https://metakernel.readthedocs.io/en/latest/source/README.html"
    }
   ],
   "mimetype": "text/x-octave",
   "name": "octave",
   "version": "4.2.2"
  }
 },
 "nbformat": 4,
 "nbformat_minor": 4
}
