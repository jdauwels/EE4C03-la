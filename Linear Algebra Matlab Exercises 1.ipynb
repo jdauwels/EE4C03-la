{
 "cells": [
  {
   "cell_type": "markdown",
   "source": [
    "EE4C03 \r\n",
    "===\r\n",
    "Statistical Digital Signal Processing and Modeling\r\n",
    "============\r\n",
    "\r\n",
    "# Computer Exercise 1a"
   ],
   "metadata": {}
  },
  {
   "cell_type": "markdown",
   "source": [
    "## 1. Define Variables\n",
    "### Examples"
   ],
   "metadata": {
    "tags": []
   }
  },
  {
   "cell_type": "code",
   "execution_count": null,
   "source": [
    "a1 = 3;         % a scalar variable\r\n",
    "a2 = 1+2i;      % a complex variable\r\n",
    "b = [1,2,3];    % a row vecotr\r\n",
    "b_1 =  [1;2;3]; % a column vector\r\n",
    "b_2 = 1:5;      % a row vector with linearly increasing elements\r\n",
    "C = [1,2;3,4];  % a matrix"
   ],
   "outputs": [],
   "metadata": {}
  },
  {
   "cell_type": "markdown",
   "source": [
    "**Tips**  \r\n",
    "(1) Add \"*;*\" after each command if you don't want your variable printed in the command window.  \r\n",
    "(2) A valid variable name starts with a letter, followed by letters, digits, or underscores. MATLAB is case sensitive, so \"*A*\" and \"*a*\" are not the same variable.  \r\n",
    "(3) Some reserved names: \"*pi*\" for the constant 3.1415..., \"*i*\" and \"*j*\" for imaginary unit, etc., and built-in function names such as \"*fft*\". Avoid using these names.\r\n",
    "\r\n",
    "**EXERCISE**: define the matrix $\\begin{bmatrix}\r\n",
    "  1&  0.5& 1\\\\\r\n",
    "  0.5&  1& 0.5\\\\\r\n",
    "  1&  0.5&1\r\n",
    "\\end{bmatrix}$ \r\n",
    "### Examples"
   ],
   "metadata": {}
  },
  {
   "cell_type": "code",
   "execution_count": null,
   "source": [
    "all_zero = zeros(3,4);         % a 3 by 4 matrix with all-zeros elements\r\n",
    "all_one = ones(4,4) ;          % a 4 by 4 matrix with all-one elements\r\n",
    "iden = eye(5);                 % identity matrix\r\n",
    "r1 = rand(3);                  % uniformly distributed random matrix\r\n",
    "dmat = diag(b);                % a diagonal matrix with its diagonal elements \r\n",
    "                               % being the vector b"
   ],
   "outputs": [],
   "metadata": {}
  },
  {
   "cell_type": "markdown",
   "source": [
    "**Tips**  \n",
    "(1) Use *help func* or *doc func* to check the specifics of a function (e.g. *help rand*). Or just simply type F1 with your cursor on the function.  \n",
    "(2) Check your workspace for dimensions of your variables or just use *size()* function.  \n",
    "**EXERCISE**: generate a 5 by 5 matrix with Gaussian distributed elements"
   ],
   "metadata": {}
  },
  {
   "cell_type": "markdown",
   "source": [
    "## 2. Operations\n",
    "### Examples"
   ],
   "metadata": {}
  },
  {
   "cell_type": "code",
   "execution_count": null,
   "source": [
    "sub_r1 = r1(:,1);         % extract the first column of matrix r1\r\n",
    "app = [sub_r1;0;1];       % append some elements   \r\n",
    "con = [sub_r1,zeros(3,1)];% concatenations\r\n",
    "trans = app';             % transpose a matrix\r\n",
    "tri = cos(trans);         % take the cosine\r\n",
    "r = sqrt(tri);            % take the square root\r\n",
    "e = exp(0:5);             % take the exponentials"
   ],
   "outputs": [],
   "metadata": {}
  },
  {
   "cell_type": "markdown",
   "source": [
    "**Tips**  \n",
    "(1) Matlab indices starts from one instead of zero\\\n",
    "(2) *'* is the Hermitian operator. When transpose without taking the complex conjugate, use *transpose()*  \n",
    "\n",
    "**EXERCISE**: create two 4-by-4 matrices $A$ and $B$ and horizontally/vertically stack them ($\\begin{bmatrix}\n",
    "  A&B\n",
    "\\end{bmatrix}$ or $\\begin{bmatrix}\n",
    " A\\\\B\n",
    "\\end{bmatrix}$). Then index the fist two columns, every other columns, and last two columns.\n",
    "### Examples\n"
   ],
   "metadata": {}
  },
  {
   "cell_type": "code",
   "execution_count": null,
   "source": [
    "M = magic(3); N = randn(3);\r\n",
    "X = M+0.1*N;      % addition\r\n",
    "mul1 = M*N;       % matrix multiplication\r\n",
    "mul2 = M.*N;      % element-wise multiplication\r\n",
    "div = 1./M;       % element-wise division\r\n",
    "q = inv(M);       % inverse a square matrix"
   ],
   "outputs": [],
   "metadata": {}
  },
  {
   "cell_type": "markdown",
   "source": [
    "**Tips**  \r\n",
    "(1) Put a *.* before operators means element-wise operation, including multiplication, division, and powers.  \r\n",
    "\r\n",
    "**EXERCISE**: create two 2-by-2 matrices $A = \\begin{bmatrix}\r\n",
    "  0.1& 0\\\\\r\n",
    "  0&0.5\r\n",
    "\\end{bmatrix}$ and $B = \\begin{bmatrix}\r\n",
    "  3& 4\\\\\r\n",
    "  5&6\r\n",
    "\\end{bmatrix}$ perform $A+B$, $A-B$, $A\\times B$, and $A^{-1}$. Also try element-wise operations. (Check the values afterward).\r\n",
    "\r\n",
    "## 3. Plots\r\n",
    "### Examples"
   ],
   "metadata": {}
  },
  {
   "cell_type": "code",
   "execution_count": null,
   "source": [
    "% plot curves\r\n",
    "x = 0:pi/10:2*pi;\r\n",
    "y1 = sin(x);\r\n",
    "y2 = sin(x-0.25);\r\n",
    "y3 = sin(x-0.5);\r\n",
    "\r\n",
    "figure\r\n",
    "plot(x,y1,'g',x,y2,'b--o',x,y3,'c*')"
   ],
   "outputs": [],
   "metadata": {}
  },
  {
   "cell_type": "code",
   "execution_count": null,
   "source": [
    "% scatter plots\r\n",
    "x = linspace(0,3*pi,200);\r\n",
    "y = cos(x) + rand(1,200);  \r\n",
    "scatter(x,y)"
   ],
   "outputs": [],
   "metadata": {}
  },
  {
   "cell_type": "code",
   "execution_count": null,
   "source": [
    "% bar plots\r\n",
    "y = [75 91 105 123.5 131 150 179 203 226 249 281.5];\r\n",
    "bar(y,0.4)\r\n",
    "y = [2 2 3; 2 5 6; 2 8 9; 2 11 12];\r\n",
    "bar(y)"
   ],
   "outputs": [],
   "metadata": {}
  },
  {
   "cell_type": "markdown",
   "source": [
    "**Tips**  \n",
    "(1) some useful commands: *hold on* to plot multiple curves in one figure, *xlim* or *ylim* to set axis range, *legend()*, *title()*.  \n",
    "(2) You can specify the colors, linewidths, markers, etc., in the *plot* function, as with *scatter* and *bar*.  \n",
    "(3) use *subplot()* to create more plots in one figure."
   ],
   "metadata": {}
  },
  {
   "cell_type": "markdown",
   "source": [
    "reference: [1] https://nl.mathworks.com/help/ \n",
    "           [2] https://nl.mathworks.com/help/matlab/ref/plot.html"
   ],
   "metadata": {}
  }
 ],
 "metadata": {
  "kernelspec": {
   "display_name": "Python 3",
   "language": "python",
   "name": "python3"
  },
  "language_info": {
   "codemirror_mode": {
    "name": "ipython",
    "version": 3
   },
   "file_extension": ".py",
   "mimetype": "text/x-python",
   "name": "python",
   "nbconvert_exporter": "python",
   "pygments_lexer": "ipython3",
   "version": "3.8.11"
  }
 },
 "nbformat": 4,
 "nbformat_minor": 5
}